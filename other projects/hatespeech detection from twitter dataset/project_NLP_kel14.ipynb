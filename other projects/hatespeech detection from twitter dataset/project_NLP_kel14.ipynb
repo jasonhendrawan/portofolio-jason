{
  "cells": [
    {
      "cell_type": "code",
      "execution_count": null,
      "metadata": {
        "id": "MU0N53Sap5qQ"
      },
      "outputs": [],
      "source": [
        "! pip install -q kaggle"
      ]
    },
    {
      "cell_type": "code",
      "execution_count": null,
      "metadata": {
        "colab": {
          "base_uri": "https://localhost:8080/",
          "height": 90
        },
        "id": "JZPgWBn0p9oz",
        "outputId": "90cf6cb9-d8c2-41e9-84fe-b2d69c1958e4"
      },
      "outputs": [
        {
          "output_type": "display_data",
          "data": {
            "text/plain": [
              "<IPython.core.display.HTML object>"
            ],
            "text/html": [
              "\n",
              "     <input type=\"file\" id=\"files-6db9a5ba-92c8-4111-973d-9925d47d9ca6\" name=\"files[]\" multiple disabled\n",
              "        style=\"border:none\" />\n",
              "     <output id=\"result-6db9a5ba-92c8-4111-973d-9925d47d9ca6\">\n",
              "      Upload widget is only available when the cell has been executed in the\n",
              "      current browser session. Please rerun this cell to enable.\n",
              "      </output>\n",
              "      <script>// Copyright 2017 Google LLC\n",
              "//\n",
              "// Licensed under the Apache License, Version 2.0 (the \"License\");\n",
              "// you may not use this file except in compliance with the License.\n",
              "// You may obtain a copy of the License at\n",
              "//\n",
              "//      http://www.apache.org/licenses/LICENSE-2.0\n",
              "//\n",
              "// Unless required by applicable law or agreed to in writing, software\n",
              "// distributed under the License is distributed on an \"AS IS\" BASIS,\n",
              "// WITHOUT WARRANTIES OR CONDITIONS OF ANY KIND, either express or implied.\n",
              "// See the License for the specific language governing permissions and\n",
              "// limitations under the License.\n",
              "\n",
              "/**\n",
              " * @fileoverview Helpers for google.colab Python module.\n",
              " */\n",
              "(function(scope) {\n",
              "function span(text, styleAttributes = {}) {\n",
              "  const element = document.createElement('span');\n",
              "  element.textContent = text;\n",
              "  for (const key of Object.keys(styleAttributes)) {\n",
              "    element.style[key] = styleAttributes[key];\n",
              "  }\n",
              "  return element;\n",
              "}\n",
              "\n",
              "// Max number of bytes which will be uploaded at a time.\n",
              "const MAX_PAYLOAD_SIZE = 100 * 1024;\n",
              "\n",
              "function _uploadFiles(inputId, outputId) {\n",
              "  const steps = uploadFilesStep(inputId, outputId);\n",
              "  const outputElement = document.getElementById(outputId);\n",
              "  // Cache steps on the outputElement to make it available for the next call\n",
              "  // to uploadFilesContinue from Python.\n",
              "  outputElement.steps = steps;\n",
              "\n",
              "  return _uploadFilesContinue(outputId);\n",
              "}\n",
              "\n",
              "// This is roughly an async generator (not supported in the browser yet),\n",
              "// where there are multiple asynchronous steps and the Python side is going\n",
              "// to poll for completion of each step.\n",
              "// This uses a Promise to block the python side on completion of each step,\n",
              "// then passes the result of the previous step as the input to the next step.\n",
              "function _uploadFilesContinue(outputId) {\n",
              "  const outputElement = document.getElementById(outputId);\n",
              "  const steps = outputElement.steps;\n",
              "\n",
              "  const next = steps.next(outputElement.lastPromiseValue);\n",
              "  return Promise.resolve(next.value.promise).then((value) => {\n",
              "    // Cache the last promise value to make it available to the next\n",
              "    // step of the generator.\n",
              "    outputElement.lastPromiseValue = value;\n",
              "    return next.value.response;\n",
              "  });\n",
              "}\n",
              "\n",
              "/**\n",
              " * Generator function which is called between each async step of the upload\n",
              " * process.\n",
              " * @param {string} inputId Element ID of the input file picker element.\n",
              " * @param {string} outputId Element ID of the output display.\n",
              " * @return {!Iterable<!Object>} Iterable of next steps.\n",
              " */\n",
              "function* uploadFilesStep(inputId, outputId) {\n",
              "  const inputElement = document.getElementById(inputId);\n",
              "  inputElement.disabled = false;\n",
              "\n",
              "  const outputElement = document.getElementById(outputId);\n",
              "  outputElement.innerHTML = '';\n",
              "\n",
              "  const pickedPromise = new Promise((resolve) => {\n",
              "    inputElement.addEventListener('change', (e) => {\n",
              "      resolve(e.target.files);\n",
              "    });\n",
              "  });\n",
              "\n",
              "  const cancel = document.createElement('button');\n",
              "  inputElement.parentElement.appendChild(cancel);\n",
              "  cancel.textContent = 'Cancel upload';\n",
              "  const cancelPromise = new Promise((resolve) => {\n",
              "    cancel.onclick = () => {\n",
              "      resolve(null);\n",
              "    };\n",
              "  });\n",
              "\n",
              "  // Wait for the user to pick the files.\n",
              "  const files = yield {\n",
              "    promise: Promise.race([pickedPromise, cancelPromise]),\n",
              "    response: {\n",
              "      action: 'starting',\n",
              "    }\n",
              "  };\n",
              "\n",
              "  cancel.remove();\n",
              "\n",
              "  // Disable the input element since further picks are not allowed.\n",
              "  inputElement.disabled = true;\n",
              "\n",
              "  if (!files) {\n",
              "    return {\n",
              "      response: {\n",
              "        action: 'complete',\n",
              "      }\n",
              "    };\n",
              "  }\n",
              "\n",
              "  for (const file of files) {\n",
              "    const li = document.createElement('li');\n",
              "    li.append(span(file.name, {fontWeight: 'bold'}));\n",
              "    li.append(span(\n",
              "        `(${file.type || 'n/a'}) - ${file.size} bytes, ` +\n",
              "        `last modified: ${\n",
              "            file.lastModifiedDate ? file.lastModifiedDate.toLocaleDateString() :\n",
              "                                    'n/a'} - `));\n",
              "    const percent = span('0% done');\n",
              "    li.appendChild(percent);\n",
              "\n",
              "    outputElement.appendChild(li);\n",
              "\n",
              "    const fileDataPromise = new Promise((resolve) => {\n",
              "      const reader = new FileReader();\n",
              "      reader.onload = (e) => {\n",
              "        resolve(e.target.result);\n",
              "      };\n",
              "      reader.readAsArrayBuffer(file);\n",
              "    });\n",
              "    // Wait for the data to be ready.\n",
              "    let fileData = yield {\n",
              "      promise: fileDataPromise,\n",
              "      response: {\n",
              "        action: 'continue',\n",
              "      }\n",
              "    };\n",
              "\n",
              "    // Use a chunked sending to avoid message size limits. See b/62115660.\n",
              "    let position = 0;\n",
              "    do {\n",
              "      const length = Math.min(fileData.byteLength - position, MAX_PAYLOAD_SIZE);\n",
              "      const chunk = new Uint8Array(fileData, position, length);\n",
              "      position += length;\n",
              "\n",
              "      const base64 = btoa(String.fromCharCode.apply(null, chunk));\n",
              "      yield {\n",
              "        response: {\n",
              "          action: 'append',\n",
              "          file: file.name,\n",
              "          data: base64,\n",
              "        },\n",
              "      };\n",
              "\n",
              "      let percentDone = fileData.byteLength === 0 ?\n",
              "          100 :\n",
              "          Math.round((position / fileData.byteLength) * 100);\n",
              "      percent.textContent = `${percentDone}% done`;\n",
              "\n",
              "    } while (position < fileData.byteLength);\n",
              "  }\n",
              "\n",
              "  // All done.\n",
              "  yield {\n",
              "    response: {\n",
              "      action: 'complete',\n",
              "    }\n",
              "  };\n",
              "}\n",
              "\n",
              "scope.google = scope.google || {};\n",
              "scope.google.colab = scope.google.colab || {};\n",
              "scope.google.colab._files = {\n",
              "  _uploadFiles,\n",
              "  _uploadFilesContinue,\n",
              "};\n",
              "})(self);\n",
              "</script> "
            ]
          },
          "metadata": {}
        },
        {
          "output_type": "stream",
          "name": "stdout",
          "text": [
            "Saving kaggle.json to kaggle.json\n"
          ]
        },
        {
          "output_type": "execute_result",
          "data": {
            "text/plain": [
              "{'kaggle.json': b'{\"username\":\"jasonhendrawan\",\"key\":\"847a95fc9ad2eceff9a54b356c07866f\"}'}"
            ]
          },
          "metadata": {},
          "execution_count": 2
        }
      ],
      "source": [
        "from google.colab import files\n",
        "\n",
        "files.upload()"
      ]
    },
    {
      "cell_type": "code",
      "execution_count": null,
      "metadata": {
        "id": "v7vmpD0VqDVB"
      },
      "outputs": [],
      "source": [
        "! mkdir ~/.kaggle\n",
        "\n",
        "! cp kaggle.json ~/.kaggle/"
      ]
    },
    {
      "cell_type": "code",
      "execution_count": null,
      "metadata": {
        "id": "ZdGfAoTfqFJj",
        "colab": {
          "base_uri": "https://localhost:8080/"
        },
        "outputId": "41379b5c-e984-40cd-d436-0f381f107051"
      },
      "outputs": [
        {
          "output_type": "stream",
          "name": "stdout",
          "text": [
            "ref                                                                   title                                                size  lastUpdated          downloadCount  voteCount  usabilityRating  \n",
            "--------------------------------------------------------------------  --------------------------------------------------  -----  -------------------  -------------  ---------  ---------------  \n",
            "arnabchaki/data-science-salaries-2023                                 Data Science Salaries 2023 💸                         25KB  2023-04-13 09:55:16          32468        880  1.0              \n",
            "tawfikelmetwally/automobile-dataset                                   Car information dataset                               6KB  2023-05-28 18:26:48           3936        112  0.9411765        \n",
            "fatihb/coffee-quality-data-cqi                                        Coffee Quality Data (CQI May-2023)                   22KB  2023-05-12 13:06:39           6067        128  1.0              \n",
            "mohithsairamreddy/salary-data                                         Salary_Data                                          17KB  2023-05-18 14:05:19           6191        121  0.88235295       \n",
            "mauryansshivam/netflix-ott-revenue-and-subscribers-csv-file           Netflix OTT Revenue and Subscribers (CSV File)        2KB  2023-05-13 17:40:23           2981         67  1.0              \n",
            "omarsobhy14/mcdonalds-revenue                                         🍟💰From Flipping Burgers to Billions: McDonald's      565B  2023-06-01 23:22:49            720         32  1.0              \n",
            "drahulsingh/list-of-best-selling-ps4-games                            List of best-selling PlayStation 4 video games        2KB  2023-06-11 17:36:59            856         29  1.0              \n",
            "zsinghrahulk/rice-pest-and-diseases                                   Rice - Pest and Diseases                            312KB  2023-06-01 08:57:29            781         31  1.0              \n",
            "iammustafatz/diabetes-prediction-dataset                              Diabetes prediction dataset                         734KB  2023-04-08 06:11:45          16946        247  1.0              \n",
            "vstacknocopyright/fruit-and-vegetable-prices                          Fruit and Vegetable Prices                            1KB  2023-06-02 06:17:43           1263         36  0.7647059        \n",
            "goyaladi/iit-admissions-dataset                                       IIT Admissions Dataset - 200,000 Students             5MB  2023-06-16 09:31:48            809         22  1.0              \n",
            "bilalwaseer/microsoft-stocks-from-1986-to-2023                        Microsoft Stocks from 1986 to 2023                  120KB  2023-05-16 10:07:28           1147         33  1.0              \n",
            "bhanupratapbiswas/fashion-products                                    Fashion Products                                     20KB  2023-06-12 03:56:26            831         34  0.7058824        \n",
            "darshanprabhu09/stock-prices-for                                      Stock prices of Amazon , Microsoft , Google, Apple   85KB  2023-05-16 15:17:16           2260         50  1.0              \n",
            "rajkumarpandey02/2023-world-population-by-country                      World Population by Country                         38KB  2023-06-01 06:10:41           2283         42  1.0              \n",
            "danishjmeo/karachi-housing-prices-2023                                Karachi_Housing_Prices_2023                           1MB  2023-06-01 07:08:13            585         30  0.9411765        \n",
            "adityaramachandran27/world-air-quality-index-by-city-and-coordinates  World Air Quality Index by City and Coordinates     372KB  2023-05-07 07:29:26           2326         49  1.0              \n",
            "dansbecker/melbourne-housing-snapshot                                 Melbourne Housing Snapshot                          451KB  2018-06-05 12:52:24         118163       1286  0.7058824        \n",
            "pushpakhinglaspure/oscar-dataset                                      Oscar Academy Award-winning films 1927-2022         161KB  2023-05-21 18:14:44            960         34  1.0              \n",
            "aryansingh0909/weekly-patent-application-granted                      Patent Application Granted Dataset                    6MB  2023-06-01 19:04:40            445         25  1.0              \n"
          ]
        }
      ],
      "source": [
        "! chmod 600 ~/.kaggle/kaggle.json\n",
        "! kaggle datasets list"
      ]
    },
    {
      "cell_type": "code",
      "execution_count": null,
      "metadata": {
        "id": "U0DSPzuCqKeg",
        "colab": {
          "base_uri": "https://localhost:8080/"
        },
        "outputId": "9c79aec4-213e-41f5-8b1f-93fe839303f3"
      },
      "outputs": [
        {
          "output_type": "stream",
          "name": "stdout",
          "text": [
            "Downloading hate-speech-and-offensive-language-dataset.zip to /content\n",
            "\r  0% 0.00/1.01M [00:00<?, ?B/s]\n",
            "100% 1.01M/1.01M [00:00<00:00, 157MB/s]\n",
            "Downloading twitter-sentiment-analysis-hatred-speech.zip to /content\n",
            "  0% 0.00/1.89M [00:00<?, ?B/s]\n",
            "100% 1.89M/1.89M [00:00<00:00, 196MB/s]\n"
          ]
        }
      ],
      "source": [
        "! kaggle datasets download -d mrmorj/hate-speech-and-offensive-language-dataset\n",
        "! kaggle datasets download -d arkhoshghalb/twitter-sentiment-analysis-hatred-speech"
      ]
    },
    {
      "cell_type": "code",
      "execution_count": null,
      "metadata": {
        "id": "wHvHlrBKpnPH",
        "colab": {
          "base_uri": "https://localhost:8080/"
        },
        "outputId": "6802d30a-4c21-4cc6-fc36-9e2411a17a83"
      },
      "outputs": [
        {
          "output_type": "stream",
          "name": "stdout",
          "text": [
            "Archive:  /content/hate-speech-and-offensive-language-dataset.zip\n",
            "  inflating: hate_speech/labeled_data.csv  \n"
          ]
        },
        {
          "output_type": "stream",
          "name": "stderr",
          "text": [
            "[nltk_data] Downloading package stopwords to /root/nltk_data...\n",
            "[nltk_data]   Unzipping corpora/stopwords.zip.\n"
          ]
        },
        {
          "output_type": "stream",
          "name": "stdout",
          "text": [
            "Archive:  /content/twitter-sentiment-analysis-hatred-speech.zip\n",
            "  inflating: twitter/test.csv        \n",
            "  inflating: twitter/train.csv       \n"
          ]
        }
      ],
      "source": [
        "import pandas as pd\n",
        "import keras\n",
        "import re\n",
        "import nltk\n",
        "from nltk.corpus import stopwords\n",
        "import string\n",
        "from wordcloud import WordCloud, STOPWORDS\n",
        "import matplotlib.pyplot as plt\n",
        "from sklearn.model_selection import train_test_split\n",
        "from sklearn.metrics import classification_report\n",
        "from sklearn.metrics import confusion_matrix\n",
        "from keras.models import Model\n",
        "from keras.layers import LSTM, Activation, Dense, Input, Embedding,SpatialDropout1D\n",
        "from keras.optimizers import RMSprop\n",
        "from keras.preprocessing.text import Tokenizer\n",
        "from keras.utils.data_utils import pad_sequences\n",
        "from keras.models import Sequential\n",
        "nltk.download(\"stopwords\")\n",
        "stemmer = nltk.SnowballStemmer(\"english\")\n",
        "stopword=set(stopwords.words('english'))\n",
        "!unzip \"/content/hate-speech-and-offensive-language-dataset.zip\" -d \"hate_speech\"\n",
        "!unzip \"/content/twitter-sentiment-analysis-hatred-speech.zip\" -d \"twitter\""
      ]
    },
    {
      "cell_type": "code",
      "execution_count": null,
      "metadata": {
        "id": "InU1h76SpnPK"
      },
      "outputs": [],
      "source": [
        "twt=pd.read_csv(\"/content/twitter/train.csv\")\n",
        "off=pd.read_csv(\"/content/hate_speech/labeled_data.csv\")"
      ]
    },
    {
      "cell_type": "code",
      "execution_count": null,
      "metadata": {
        "id": "-knCRpfKpnPL",
        "colab": {
          "base_uri": "https://localhost:8080/"
        },
        "outputId": "ab55d300-52f7-434d-d45e-7de4597fd117"
      },
      "outputs": [
        {
          "output_type": "stream",
          "name": "stdout",
          "text": [
            "          id  label                                              tweet\n",
            "0          1      0   @user when a father is dysfunctional and is s...\n",
            "1          2      0  @user @user thanks for #lyft credit i can't us...\n",
            "2          3      0                                bihday your majesty\n",
            "3          4      0  #model   i love u take with u all the time in ...\n",
            "4          5      0             factsguide: society now    #motivation\n",
            "...      ...    ...                                                ...\n",
            "31957  31958      0  ate @user isz that youuu?ðððððð...\n",
            "31958  31959      0    to see nina turner on the airwaves trying to...\n",
            "31959  31960      0  listening to sad songs on a monday morning otw...\n",
            "31960  31961      1  @user #sikh #temple vandalised in in #calgary,...\n",
            "31961  31962      0                   thank you @user for you follow  \n",
            "\n",
            "[31962 rows x 3 columns]\n",
            "\n",
            "       Unnamed: 0  count  hate_speech  offensive_language  neither  class  \\\n",
            "0               0      3            0                   0        3      2   \n",
            "1               1      3            0                   3        0      1   \n",
            "2               2      3            0                   3        0      1   \n",
            "3               3      3            0                   2        1      1   \n",
            "4               4      6            0                   6        0      1   \n",
            "...           ...    ...          ...                 ...      ...    ...   \n",
            "24778       25291      3            0                   2        1      1   \n",
            "24779       25292      3            0                   1        2      2   \n",
            "24780       25294      3            0                   3        0      1   \n",
            "24781       25295      6            0                   6        0      1   \n",
            "24782       25296      3            0                   0        3      2   \n",
            "\n",
            "                                                   tweet  \n",
            "0      !!! RT @mayasolovely: As a woman you shouldn't...  \n",
            "1      !!!!! RT @mleew17: boy dats cold...tyga dwn ba...  \n",
            "2      !!!!!!! RT @UrKindOfBrand Dawg!!!! RT @80sbaby...  \n",
            "3      !!!!!!!!! RT @C_G_Anderson: @viva_based she lo...  \n",
            "4      !!!!!!!!!!!!! RT @ShenikaRoberts: The shit you...  \n",
            "...                                                  ...  \n",
            "24778  you's a muthaf***in lie &#8220;@LifeAsKing: @2...  \n",
            "24779  you've gone and broke the wrong heart baby, an...  \n",
            "24780  young buck wanna eat!!.. dat nigguh like I ain...  \n",
            "24781              youu got wild bitches tellin you lies  \n",
            "24782  ~~Ruffled | Ntac Eileen Dahlia - Beautiful col...  \n",
            "\n",
            "[24783 rows x 7 columns]\n"
          ]
        }
      ],
      "source": [
        "print(twt)\n",
        "print(\"\")\n",
        "print(off)"
      ]
    },
    {
      "cell_type": "code",
      "execution_count": null,
      "metadata": {
        "id": "rTpryM-gpnPM",
        "colab": {
          "base_uri": "https://localhost:8080/"
        },
        "outputId": "f7649180-bf4a-4568-cba4-74e92a87ac9c"
      },
      "outputs": [
        {
          "output_type": "stream",
          "name": "stderr",
          "text": [
            "<ipython-input-32-766b118d84d9>:4: SettingWithCopyWarning: \n",
            "A value is trying to be set on a copy of a slice from a DataFrame.\n",
            "Try using .loc[row_indexer,col_indexer] = value instead\n",
            "\n",
            "See the caveats in the documentation: https://pandas.pydata.org/pandas-docs/stable/user_guide/indexing.html#returning-a-view-versus-a-copy\n",
            "  off[off['class']==0]['class']=1\n"
          ]
        }
      ],
      "source": [
        "twt.drop('id',axis=1,inplace=True)\n",
        "\n",
        "off.drop(['Unnamed: 0','count','hate_speech','offensive_language','neither'],axis=1,inplace=True)\n",
        "off[off['class']==0]['class']=1\n",
        "off[\"class\"].replace({0: 1}, inplace=True)\n",
        "off[\"class\"].replace({2: 0}, inplace=True)\n",
        "off.rename(columns ={'class':'label'}, inplace = True)\n",
        "off.iloc[0]['tweet']\n",
        "off.iloc[5]['tweet']\\\n",
        "\n",
        "frame=[twt,off]\n",
        "df = pd.concat(frame)"
      ]
    },
    {
      "cell_type": "code",
      "execution_count": null,
      "metadata": {
        "id": "HQQiQ-yopnPV"
      },
      "outputs": [],
      "source": [
        "def clean_text(text):\n",
        "    text = str(text).lower()\n",
        "    text = re.sub('\\[.*?\\]', '', text)\n",
        "    text = re.sub('https?://\\S+|www\\.\\S+', '', text)\n",
        "    text = re.sub('<.*?>+', '', text)\n",
        "    text = re.sub('[%s]' % re.escape(string.punctuation), '', text)\n",
        "    text = re.sub('\\n', '', text)\n",
        "    text = re.sub('\\w*\\d\\w*', '', text)\n",
        "    text = [word for word in text.split(' ') if word not in stopword]\n",
        "    text=\" \".join(text)\n",
        "    text = [stemmer.stem(word) for word in text.split(' ')]\n",
        "    text=\" \".join(text)\n",
        "    return text"
      ]
    },
    {
      "cell_type": "code",
      "execution_count": null,
      "metadata": {
        "id": "3IREp1XTpnPW"
      },
      "outputs": [],
      "source": [
        "df['tweet']=df['tweet'].apply(clean_text)"
      ]
    },
    {
      "cell_type": "code",
      "execution_count": null,
      "metadata": {
        "id": "UtHDiKxWpnPX"
      },
      "outputs": [],
      "source": [
        "def make_wordcloud(df):\n",
        "    comment_words=\"\"\n",
        "    for val in df.tweet:\n",
        "        val = str(val).lower()\n",
        "\n",
        "\n",
        "        comment_words += \" \".join(val)+\" \"\n",
        "    print(comment_words[0:100])\n",
        "    wordcloud = WordCloud(width = 800, height = 800,\n",
        "                background_color ='white',\n",
        "                stopwords = stopwords,min_font_size = 10).generate(comment_words)\n",
        "\n",
        "    plt.figure(figsize = (8, 8), facecolor = None)\n",
        "    plt.imshow(wordcloud)\n",
        "    plt.axis(\"off\")\n",
        "    plt.tight_layout(pad = 0)\n",
        "\n",
        "    plt.show()"
      ]
    },
    {
      "cell_type": "code",
      "execution_count": null,
      "metadata": {
        "id": "iU1x6vVvpnPY"
      },
      "outputs": [],
      "source": [
        "x=df['tweet']\n",
        "y=df['label']\n",
        "x_train, x_test, y_train, y_test = train_test_split(x, y, random_state=42)"
      ]
    },
    {
      "cell_type": "code",
      "execution_count": null,
      "metadata": {
        "id": "VZ1gtj5rpnPh"
      },
      "outputs": [],
      "source": [
        "max_words = 50000\n",
        "max_len = 300\n",
        "tokenizer = Tokenizer(num_words=max_words)\n",
        "tokenizer.fit_on_texts(x_train)\n",
        "sequences = tokenizer.texts_to_sequences(x_train)\n",
        "sequences_matrix = pad_sequences(sequences,maxlen=max_len)"
      ]
    },
    {
      "cell_type": "code",
      "execution_count": null,
      "metadata": {
        "id": "jp5eU9SPpnPh",
        "colab": {
          "base_uri": "https://localhost:8080/"
        },
        "outputId": "0f66ce5a-0dff-4ed3-8b4d-d003b199afa3"
      },
      "outputs": [
        {
          "output_type": "stream",
          "name": "stdout",
          "text": [
            "Model: \"sequential_1\"\n",
            "_________________________________________________________________\n",
            " Layer (type)                Output Shape              Param #   \n",
            "=================================================================\n",
            " embedding_1 (Embedding)     (None, 300, 100)          5000000   \n",
            "                                                                 \n",
            " spatial_dropout1d_1 (Spatia  (None, 300, 100)         0         \n",
            " lDropout1D)                                                     \n",
            "                                                                 \n",
            " lstm_1 (LSTM)               (None, 100)               80400     \n",
            "                                                                 \n",
            " dense_1 (Dense)             (None, 1)                 101       \n",
            "                                                                 \n",
            "=================================================================\n",
            "Total params: 5,080,501\n",
            "Trainable params: 5,080,501\n",
            "Non-trainable params: 0\n",
            "_________________________________________________________________\n"
          ]
        }
      ],
      "source": [
        "model = Sequential()\n",
        "model.add(Embedding(max_words, 100, input_length=max_len))\n",
        "model.add(SpatialDropout1D(0.2))\n",
        "model.add(LSTM(100))\n",
        "model.add(Dense(1, activation='sigmoid'))\n",
        "model.summary()\n",
        "model.compile(loss='binary_crossentropy',optimizer='adam',metrics=['accuracy'])"
      ]
    },
    {
      "cell_type": "code",
      "execution_count": null,
      "metadata": {
        "id": "ZWYHgv4FpnPi",
        "colab": {
          "base_uri": "https://localhost:8080/"
        },
        "outputId": "226fd5d8-a2ad-4ea3-e545-637fec14e749"
      },
      "outputs": [
        {
          "output_type": "stream",
          "name": "stdout",
          "text": [
            "Epoch 1/5\n",
            "38/38 [==============================] - 11s 227ms/step - loss: 0.5472 - accuracy: 0.7130 - val_loss: 0.3171 - val_accuracy: 0.9013\n",
            "Epoch 2/5\n",
            "38/38 [==============================] - 7s 185ms/step - loss: 0.2215 - accuracy: 0.9251 - val_loss: 0.1983 - val_accuracy: 0.9307\n",
            "Epoch 3/5\n",
            "38/38 [==============================] - 7s 200ms/step - loss: 0.1166 - accuracy: 0.9617 - val_loss: 0.1772 - val_accuracy: 0.9391\n",
            "Epoch 4/5\n",
            "38/38 [==============================] - 6s 159ms/step - loss: 0.0732 - accuracy: 0.9773 - val_loss: 0.1842 - val_accuracy: 0.9396\n",
            "Epoch 5/5\n",
            "38/38 [==============================] - 6s 158ms/step - loss: 0.0509 - accuracy: 0.9840 - val_loss: 0.2129 - val_accuracy: 0.9326\n"
          ]
        }
      ],
      "source": [
        "history=model.fit(sequences_matrix,y_train,batch_size=1024,epochs=5,\n",
        "          validation_split=0.1)"
      ]
    },
    {
      "cell_type": "code",
      "execution_count": null,
      "metadata": {
        "id": "aCOdg28CpnPi",
        "colab": {
          "base_uri": "https://localhost:8080/",
          "height": 472
        },
        "outputId": "13f4ad8d-1c10-4d7d-a55c-077dbcf746df"
      },
      "outputs": [
        {
          "output_type": "display_data",
          "data": {
            "text/plain": [
              "<Figure size 640x480 with 1 Axes>"
            ],
            "image/png": "[encoded data removed]"
          },
          "metadata": {}
        }
      ],
      "source": [
        "plt.plot(history.history['accuracy'], label='Training')\n",
        "plt.plot(history.history['val_accuracy'], label='Validation')\n",
        "plt.title('Model Accuracy')\n",
        "plt.ylabel('Accuracy')\n",
        "plt.xlabel('epoch')\n",
        "plt.legend(['acc', 'val_acc'],loc='upper left')\n",
        "plt.show()"
      ]
    },
    {
      "cell_type": "code",
      "source": [
        "plt.plot(history.history['loss'])\n",
        "plt.plot(history.history['val_loss'])\n",
        "plt.title('Model loss')\n",
        "plt.ylabel('Loss')\n",
        "plt.xlabel('epoch')\n",
        "plt.legend(['loss', 'val_loss'], loc='upper right')\n",
        "plt.show()"
      ],
      "metadata": {
        "colab": {
          "base_uri": "https://localhost:8080/",
          "height": 472
        },
        "id": "v1aEtiB5NcVH",
        "outputId": "7520582c-005c-4b69-9550-ee3a4aae5e30"
      },
      "execution_count": null,
      "outputs": [
        {
          "output_type": "display_data",
          "data": {
            "text/plain": [
              "<Figure size 640x480 with 1 Axes>"
            ],
            "image/png": "[encoded data removed]"
          },
          "metadata": {}
        }
      ]
    },
    {
      "cell_type": "code",
      "execution_count": null,
      "metadata": {
        "id": "o0eNBOyapnPi"
      },
      "outputs": [],
      "source": [
        "test_sequences = tokenizer.texts_to_sequences(x_test)\n",
        "test_sequences_matrix = pad_sequences(test_sequences,maxlen=max_len)"
      ]
    },
    {
      "cell_type": "code",
      "execution_count": null,
      "metadata": {
        "id": "jpXsdojipnPj",
        "colab": {
          "base_uri": "https://localhost:8080/"
        },
        "outputId": "1fe8dc19-a251-4320-f7be-a5079f0d8227"
      },
      "outputs": [
        {
          "output_type": "stream",
          "name": "stdout",
          "text": [
            "444/444 [==============================] - 3s 7ms/step - loss: 0.2144 - accuracy: 0.9301\n"
          ]
        }
      ],
      "source": [
        "accr = model.evaluate(test_sequences_matrix,y_test)\n"
      ]
    },
    {
      "cell_type": "code",
      "execution_count": null,
      "metadata": {
        "id": "HStJCzJ6pnPj",
        "colab": {
          "base_uri": "https://localhost:8080/"
        },
        "outputId": "f063e1b4-c624-454b-e78e-0e2697151927"
      },
      "outputs": [
        {
          "output_type": "stream",
          "name": "stdout",
          "text": [
            "444/444 [==============================] - 3s 6ms/step\n"
          ]
        }
      ],
      "source": [
        "lstm_prediction=model.predict(test_sequences_matrix)\n"
      ]
    },
    {
      "cell_type": "code",
      "execution_count": null,
      "metadata": {
        "id": "dDo50dwnpnPk",
        "colab": {
          "base_uri": "https://localhost:8080/"
        },
        "outputId": "4c7e0e85-4cf2-4a90-e90e-611405fc301d"
      },
      "outputs": [
        {
          "output_type": "stream",
          "name": "stdout",
          "text": [
            "[[7912  541]\n",
            " [ 451 5283]]\n",
            "              precision    recall  f1-score   support\n",
            "\n",
            "           0       0.95      0.94      0.94      8453\n",
            "           1       0.91      0.92      0.91      5734\n",
            "\n",
            "    accuracy                           0.93     14187\n",
            "   macro avg       0.93      0.93      0.93     14187\n",
            "weighted avg       0.93      0.93      0.93     14187\n",
            "\n"
          ]
        }
      ],
      "source": [
        "res=[]\n",
        "for prediction in lstm_prediction:\n",
        "    if prediction[0]<0.5:\n",
        "        res.append(0)\n",
        "    else:\n",
        "        res.append(1)\n",
        "print(confusion_matrix(y_test,res))\n",
        "print(classification_report(y_test, res))"
      ]
    },
    {
      "cell_type": "code",
      "execution_count": null,
      "metadata": {
        "id": "HU49o-tqpnPp",
        "colab": {
          "base_uri": "https://localhost:8080/"
        },
        "outputId": "db6aed88-860e-4512-910f-b703ceb0ecf6"
      },
      "outputs": [
        {
          "output_type": "stream",
          "name": "stdout",
          "text": [
            "['look  fuck ugli']\n",
            "[[26, 12, 256]]\n",
            "1/1 [==============================] - 0s 26ms/step\n",
            "pred [[0.9487756]]\n",
            "hateful and abusive\n"
          ]
        }
      ],
      "source": [
        "test = 'YOU LOOK\\S %S  FUCKING UGLY'\n",
        "test=[clean_text(test)]\n",
        "print(test)\n",
        "seq = tokenizer.texts_to_sequences(test)\n",
        "padded = pad_sequences(seq, maxlen=300)\n",
        "print(seq)\n",
        "pred = model.predict(padded)\n",
        "print(\"pred\", pred)\n",
        "if pred<0.5:\n",
        "    print(\"no hate\")\n",
        "else:\n",
        "    print(\"hateful and abusive\")"
      ]
    },
    {
      "cell_type": "code",
      "execution_count": null,
      "metadata": {
        "id": "qiAXt_m3pnPp",
        "colab": {
          "base_uri": "https://localhost:8080/"
        },
        "outputId": "ca0c9a62-bdaf-4df1-d3c3-f0c1def9c3a4"
      },
      "outputs": [
        {
          "output_type": "stream",
          "name": "stdout",
          "text": [
            "['are absolut  pretti   ']\n",
            "[[865, 292]]\n",
            "1/1 [==============================] - 0s 24ms/step\n",
            "pred [[0.28984302]]\n",
            "no hate\n"
          ]
        }
      ],
      "source": [
        "test = 'YOU arE\\S absolutely %S  pretty 1 3 2'\n",
        "test=[clean_text(test)]\n",
        "print(test)\n",
        "seq = tokenizer.texts_to_sequences(test)\n",
        "padded = pad_sequences(seq, maxlen=300)\n",
        "print(seq)\n",
        "pred = model.predict(padded)\n",
        "print(\"pred\", pred)\n",
        "if pred<0.5:\n",
        "    print(\"no hate\")\n",
        "else:\n",
        "    print(\"hateful and abusive\")"
      ]
    },
    {
      "cell_type": "code",
      "execution_count": null,
      "metadata": {
        "id": "qTMC4WK4pnPq",
        "colab": {
          "base_uri": "https://localhost:8080/"
        },
        "outputId": "77f48b10-af81-4436-cfda-bbdf77504eba"
      },
      "outputs": [
        {
          "output_type": "stream",
          "name": "stdout",
          "text": [
            "['realli shitti today']\n",
            "[[53, 1527, 32]]\n",
            "1/1 [==============================] - 0s 23ms/step\n",
            "pred [[0.78926677]]\n",
            "hateful and abusive\n"
          ]
        }
      ],
      "source": [
        "test = 'you ReALLy are ShittY ToDaY'\n",
        "test=[clean_text(test)]\n",
        "print(test)\n",
        "seq = tokenizer.texts_to_sequences(test)\n",
        "padded = pad_sequences(seq, maxlen=300)\n",
        "print(seq)\n",
        "pred = model.predict(padded)\n",
        "print(\"pred\", pred)\n",
        "if pred<0.5:\n",
        "    print(\"no hate\")\n",
        "else:\n",
        "    print(\"hateful and abusive\")"
      ]
    },
    {
      "cell_type": "code",
      "execution_count": null,
      "metadata": {
        "id": "dQRRsMHEpnPr",
        "colab": {
          "base_uri": "https://localhost:8080/"
        },
        "outputId": "c522eb3a-6a33-4b8a-a0bf-08016e39f020"
      },
      "outputs": [
        {
          "output_type": "stream",
          "name": "stdout",
          "text": [
            "['  like  dumb monkey ']\n",
            "[[5, 232, 409]]\n",
            "1/1 [==============================] - 0s 31ms/step\n",
            "pred [[0.86727434]]\n",
            "hateful and abusive\n"
          ]
        }
      ],
      "source": [
        "test = 'you * are % like a $@% dumb MonKey '\n",
        "test=[clean_text(test)]\n",
        "print(test)\n",
        "seq = tokenizer.texts_to_sequences(test)\n",
        "padded = pad_sequences(seq, maxlen=300)\n",
        "print(seq)\n",
        "pred = model.predict(padded)\n",
        "print(\"pred\", pred)\n",
        "if pred<0.5:\n",
        "    print(\"no hate\")\n",
        "else:\n",
        "    print(\"hateful and abusive\")"
      ]
    },
    {
      "cell_type": "code",
      "execution_count": null,
      "metadata": {
        "id": "_kCkA85RpnPv",
        "colab": {
          "base_uri": "https://localhost:8080/"
        },
        "outputId": "e80f5401-0f74-4732-a866-40f0749218cd"
      },
      "outputs": [
        {
          "output_type": "stream",
          "name": "stdout",
          "text": [
            "['look realli fuck good today']\n",
            "[[26, 53, 12, 30, 32]]\n",
            "1/1 [==============================] - 0s 25ms/step\n",
            "pred [[0.437186]]\n",
            "no hate\n"
          ]
        }
      ],
      "source": [
        "test = 'you look really fucking good today'\n",
        "test=[clean_text(test)]\n",
        "print(test)\n",
        "seq = tokenizer.texts_to_sequences(test)\n",
        "padded = pad_sequences(seq, maxlen=300)\n",
        "print(seq)\n",
        "pred = model.predict(padded)\n",
        "print(\"pred\", pred)\n",
        "if pred<0.5:\n",
        "    print(\"no hate\")\n",
        "else:\n",
        "    print(\"hateful and abusive\")"
      ]
    }
  ],
  "metadata": {
    "accelerator": "GPU",
    "colab": {
      "provenance": [],
      "gpuType": "T4"
    },
    "kernelspec": {
      "display_name": "Python 3",
      "name": "python3"
    },
    "language_info": {
      "codemirror_mode": {
        "name": "ipython",
        "version": 3
      },
      "file_extension": ".py",
      "mimetype": "text/x-python",
      "name": "python",
      "nbconvert_exporter": "python",
      "pygments_lexer": "ipython3",
      "version": "3.6.4"
    }
  },
  "nbformat": 4,
  "nbformat_minor": 0
}